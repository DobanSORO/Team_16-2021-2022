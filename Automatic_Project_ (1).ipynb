{
  "cells": [
    {
      "cell_type": "code",
      "execution_count": null,
      "metadata": {
        "id": "Z3tYQs9AGK57"
      },
      "outputs": [],
      "source": [
        "from numpy import *\n",
        "from numpy.linalg import *\n",
        "\n",
        "from scipy.integrate import *\n",
        "from scipy.signal import *\n",
        "\n",
        "from matplotlib.pyplot import *\n",
        "import matplotlib.pyplot as plt"
      ]
    },
    {
      "cell_type": "markdown",
      "metadata": {
        "id": "zHarOjF3GK6B"
      },
      "source": [
        "Chariot Model\n",
        "==============\n",
        "\n",
        "We consider a mobile robot of \"chariot\" type, evolving in the plane.\n",
        "\n",
        "  - From above, its frame appears to be a disk of diameter $D$. \n",
        "  \n",
        "  - It has two fixed wheels (their orientation with respect to the frame does not change; there is no need for a steering wheel!). They are parallel and located at opposite ends of the frame (hence separated by a distance of $D$) ; these wheels have the common radius $R$.\n",
        "\n",
        "  - The robot is symmetric with respect to the axis that joins the two wheels. For convenience, a green sticker is attached at the boundary of the frame on one side of this axis, on the robot axis of symmetry ; this side will is called the \"front\" of the robot, the point itself is called the \"nose\" of the robot. When we talk about the \"left wheel\" or the \"right wheel\", we assume that we are looking towards the front of the robot.\n",
        "\n",
        "We will denote \n",
        "\n",
        "  - $(x, y)$ the coordinates of the wheel axis in the orthonormal and direct frame $(0, e_x, e_y)$ of the plane.\n",
        "  \n",
        "  - $\\theta$ the angle of the wheels direction with respect to vector $e_x$ ; with $\\theta = 0$ when the front of the robot faces the right ($e_x$) and $\\theta = \\pi/2$ when he faces upwards ($e_y$).\n",
        "\n",
        "  - $\\phi_l$ and $\\phi_r$ the rotation angles of the left and right wheel respectively ; by convention, when these angles increase, the robot moves forward."
      ]
    },
    {
      "cell_type": "markdown",
      "metadata": {
        "id": "k3qTndT0GK6D"
      },
      "source": [
        "### Parameter Definition\n",
        "\n",
        "\n",
        "From now on, we assume that the frame diameter is $D = 1 \\mbox{ m}$ and the wheel radius is $R = 10 \\mbox{ cm}$.\n",
        "\n",
        "🧩 Define the corresponding Python variables `D` and `R` (express every length in meters, and more generally in the sequel, always use the [international standard of units](https://en.wikipedia.org/wiki/SI_derived_unit)) for numerical values. "
      ]
    },
    {
      "cell_type": "code",
      "execution_count": null,
      "metadata": {
        "id": "_tlTsOiHGK6F"
      },
      "outputs": [],
      "source": [
        "D=1 \n",
        "R=0.1"
      ]
    },
    {
      "cell_type": "markdown",
      "metadata": {
        "id": "nyYz0qOuGK6F"
      },
      "source": [
        "### Graphical Representation\n",
        "\n",
        "🧩 Implement a function `draw_robot` with arguments `x`, `y` and `theta` that draws the robot in the plane (top view) for arbitrary values of $(x, y)$ and $\\theta$. Represent the robot frame as a circle, the wheels as lines and the nose as an orange point.\n",
        "\n",
        "🗝️ **Hint.** Use the function `plot` of `matplotlib.pyplot`."
      ]
    },
    {
      "cell_type": "code",
      "execution_count": null,
      "metadata": {
        "id": "zyRJAMB_GK6H"
      },
      "outputs": [],
      "source": [
        "def draw_robot(x, y, theta):\n",
        "    global frame\n",
        "    x1,y1= x+(D/2)*sin(theta), y-(D/2)*cos(theta)\n",
        "    x2,y2= x-(D/2)*sin(theta), y+ (D/2)*cos(theta)\n",
        "    x3,y3= x+(D/2)*cos(theta), y+ (D/2)*sin(theta)\n",
        "    \n",
        "    frame= plt.Circle((x,y),(D/2),color='grey')\n",
        "    plt.plot(x3,y3,\"ro\")\n",
        "    plt.plot([x1, x2], [y1, y2], linestyle=\"-\", color=\"k\")\n",
        "    plt.plot([x1-R*cos(theta)/2, x1+R*cos(theta)/2], [y1-R*sin(theta)/2, y1+R*sin(theta)/2], linestyle=\"-\", color=\"r\",linewidth=3)\n",
        "    plt.plot([x2-R*cos(theta)/2, x2+R*cos(theta)/2], [y2-R*sin(theta)/2, y2+R*sin(theta)/2], linestyle=\"-\", color=\"r\",linewidth=3)"
      ]
    },
    {
      "cell_type": "markdown",
      "metadata": {
        "id": "uSqLSyodGK6I"
      },
      "source": [
        "🧩 Represent the robot in when $(x, y, \\theta) = (0, 0, 0), (2, 2, \\pi/2), (0, 4, -\\pi), (-4, 4, -\\pi), (-8, 4, -\\pi)$.\n",
        "\n",
        "🗝️ **Hint.** Use the following `draw_arena` function beforehand."
      ]
    },
    {
      "cell_type": "code",
      "execution_count": null,
      "metadata": {
        "id": "sftoY2tSGK6J"
      },
      "outputs": [],
      "source": [
        "def draw_arena(xmin=-12, xmax=12, ymin=-9, ymax=9):\n",
        "    global axes\n",
        "    wh_ratio = (xmax - xmin) / (ymax - ymin)\n",
        "    figsize = fig_width, fig_height = 16, 16 / wh_ratio\n",
        "    figure(figsize=figsize)\n",
        "    axes = gca()\n",
        "    axes.axis([xmin, xmax, ymin, ymax])\n",
        "    axes.set_aspect(1)\n",
        "    xticks(arange(xmin, xmax+1, 1))\n",
        "    yticks(arange(ymin, ymax+1, 1))\n",
        "    grid(True)\n",
        "    plot([xmin, xmax], [0, 0], linestyle=\"-\", color=\"grey\")\n",
        "    plot([0, 0], [ymin, ymax], linestyle=\"-\", color=\"grey\")\n"
      ]
    },
    {
      "cell_type": "code",
      "execution_count": null,
      "metadata": {
        "id": "xONmqV03GK6K"
      },
      "outputs": [],
      "source": [
        "def draw(x, y, theta):\n",
        "    draw_robot(x, y, theta)\n",
        "    axes.add_patch(frame)\n"
      ]
    },
    {
      "cell_type": "code",
      "source": [
        "draw_arena()\n",
        "draw(0, 0, 0)\n",
        "draw(2,2,pi/2)\n",
        "draw(0,4,-pi)\n",
        "draw(-4,-4,-pi)\n",
        "draw(-8,4,-pi)"
      ],
      "metadata": {
        "colab": {
          "base_uri": "https://localhost:8080/",
          "height": 704
        },
        "id": "MjiCPYFelwff",
        "outputId": "b949a62f-fbc0-4e26-f74f-c5b92d125a5d"
      },
      "execution_count": null,
      "outputs": [
        {
          "output_type": "display_data",
          "data": {
            "text/plain": [
              "<Figure size 1152x864 with 1 Axes>"
            ],
            "image/png": "[encoded data removed]"
          },
          "metadata": {
            "needs_background": "light"
          }
        }
      ]
    },
    {
      "cell_type": "markdown",
      "metadata": {
        "id": "7dgdc4gzGK6L"
      },
      "source": [
        "### Kinematic Modeling\n",
        "\n",
        "We assume that we can control the wheels angular velocities $\\omega_l = \\dot{\\phi}_l$ and $\\omega_r = \\dot{\\phi}_r$ (this is a *kinematic* model of the robot).\n",
        "We also assume that the chariot wheels roll without slipping. \n",
        "\n",
        "🧩 Establish the differential equations that relate $\\dot{x}$,\n",
        "$\\dot{y}$ and $\\dot{\\theta}$ with $\\omega_l$ and $\\omega_r$."
      ]
    },
    {
      "cell_type": "markdown",
      "metadata": {
        "id": "ZvejUTcsGK6L"
      },
      "source": [
        "**Answer:**"
      ]
    },
    {
      "cell_type": "markdown",
      "source": [
        "Equation differntielle:\n",
        "\n",
        "1. dx/dt = R/2 * cos(theta) * (wl + wr)\n",
        "2. dy/dt = R/2 * sin(theta) * (wl + wr)\n",
        "3. dtheta/dt = R/D * (wl - wr)\n",
        "\n",
        "\n",
        "\n",
        "\n",
        "\n"
      ],
      "metadata": {
        "id": "VtfM0mg39f_A"
      }
    },
    {
      "cell_type": "markdown",
      "metadata": {
        "id": "wVwi9PRzGK6M"
      },
      "source": [
        "### Analysis\n",
        "\n",
        "🧩 Show that if $\\omega_l$ and $\\omega_r$ are continuously differentiable functions of $(x, y, \\theta)$ (which includes the case of constant inputs), this system is well-posed."
      ]
    },
    {
      "cell_type": "markdown",
      "metadata": {
        "id": "QVSXwP1rGK6M"
      },
      "source": [
        "**Answer:**"
      ]
    },
    {
      "cell_type": "markdown",
      "metadata": {
        "id": "S7WUOdoCGK6M"
      },
      "source": [
        "🧩 Show that if $\\omega_l$ and $\\omega_r$ are constants, the maximal solution associated to any initial state is global. Is is still true of $\\omega_l$ and $\\omega_r$ are arbitrary continuously differentiable functions of $(x, y, \\theta)$ ?"
      ]
    },
    {
      "cell_type": "markdown",
      "metadata": {
        "id": "KnxgHycuGK6M"
      },
      "source": [
        "**Answer:**"
      ]
    },
    {
      "cell_type": "markdown",
      "metadata": {
        "id": "r-YUUBt3GK6N"
      },
      "source": [
        "### Vector Field\n",
        "\n",
        "In the sequel, `omega` is a function that computes the input vector $\\omega := (\\omega_l, \\omega_r)$ given the time $t$ and $(x, y, \\theta)$ (thus, it may depend on the time and/or on the system state if needed). For example:"
      ]
    },
    {
      "cell_type": "code",
      "execution_count": null,
      "metadata": {
        "id": "2mGmRLnGGK6N"
      },
      "outputs": [],
      "source": [
        "def omega(t, xytheta):\n",
        "    omega_l = 7.5 * pi\n",
        "    omega_r = 12.5 * pi\n",
        "    return array([omega_l, omega_r])"
      ]
    },
    {
      "cell_type": "markdown",
      "metadata": {
        "id": "caR-tUl4GK6N"
      },
      "source": [
        "🧩 Implement a function `fun(t, xytheta)` that computes $(\\dot{x}, \\dot{y}, \\dot{\\theta})$ given the time $t$, $(x,y,\\theta)$ (and  -- implicitly -- the inputs $\\omega$ computed by the function `omega`)."
      ]
    },
    {
      "cell_type": "code",
      "execution_count": null,
      "metadata": {
        "id": "PHbmjiWVGK6O"
      },
      "outputs": [],
      "source": [
        "def fun(t, xytheta):\n",
        "    x, y, theta = xytheta\n",
        "    wl, wr = omega(t, xytheta)\n",
        "    dx=R*(wl+wr)*0.5*cos(theta)\n",
        "    dy=R*(wl+wr)*0.5*sin(theta)\n",
        "    dtheta=(R/D)*(wr-wl)\n",
        "    dX = array([dx, dy, dtheta])\n",
        "    return dX"
      ]
    },
    {
      "cell_type": "markdown",
      "metadata": {
        "id": "XvuXq3VDGK6O"
      },
      "source": [
        "### Simulation Setup\n",
        "\n",
        "🧩 Simulate the robot dynamics for 4 seconds when $(x_0, y_0, \\theta_0)(t=0) = (0.0, 0.0, 0.0)$,\n",
        "and the wheels velocities are the constants $\\omega_l = 7.5 \\pi$ and $\\omega_r = 12.5 \\pi$.\n",
        "(Compute the dense outputs.)\n",
        "   "
      ]
    },
    {
      "cell_type": "code",
      "execution_count": null,
      "metadata": {
        "id": "jsIRGwfZGK6P"
      },
      "outputs": [],
      "source": [
        "X0=[0,0,0]\n",
        "t_fin=4\n",
        "t_span=[0,t_fin]\n",
        "result = solve_ivp(fun=fun, t_span=t_span, y0=X0,dense_output=True)\n",
        "t=linspace(0,t_fin,100)\n",
        "X=result['sol'](t)"
      ]
    },
    {
      "cell_type": "code",
      "source": [
        ""
      ],
      "metadata": {
        "id": "X_B6Yl5AAnUq"
      },
      "execution_count": null,
      "outputs": []
    },
    {
      "cell_type": "markdown",
      "metadata": {
        "id": "3CfTpENtGK6P"
      },
      "source": [
        "🧩 Use the simulation results to draw the graphs of $x(t)$, $y(t)$ and $\\theta(t)$."
      ]
    },
    {
      "cell_type": "code",
      "execution_count": null,
      "metadata": {
        "id": "OG8aJm5gGK6P",
        "colab": {
          "base_uri": "https://localhost:8080/",
          "height": 902
        },
        "outputId": "de13e5e4-66ac-430c-b0ce-c6b90c7ae354"
      },
      "outputs": [
        {
          "output_type": "stream",
          "name": "stderr",
          "text": [
            "No handles with labels found to put in legend.\n"
          ]
        },
        {
          "output_type": "execute_result",
          "data": {
            "text/plain": [
              "<matplotlib.legend.Legend at 0x7f3362631f90>"
            ]
          },
          "metadata": {},
          "execution_count": 123
        },
        {
          "output_type": "display_data",
          "data": {
            "text/plain": [
              "<Figure size 1080x1080 with 3 Axes>"
            ],
            "image/png": "[encoded data removed]"
          },
          "metadata": {
            "needs_background": "light"
          }
        }
      ],
      "source": [
        "f, ax = subplots(3,figsize=(15,15))\n",
        "\n",
        "ax[0].plot(t,X[0],'-r',label=r'$x(t)$')\n",
        "ax[0].axis([-1,5 , -3,5 ])\n",
        "ax[0].set_aspect(1)\n",
        "ax[0].legend()\n",
        "ax[0].plot(t,X[1],'-r',label=r'$y(t)$')\n",
        "ax[1].axis([-1,5 , -1,5 ])\n",
        "ax[1].set_aspect(1)\n",
        "ax[1].legend()\n",
        "ax[2].plot(t,X[2],'-b',label=r'$\\theta(t)$')\n",
        "grid(True)\n",
        "legend()"
      ]
    },
    {
      "cell_type": "markdown",
      "metadata": {
        "id": "ELRILZUZGK6Q"
      },
      "source": [
        "🧩 Use the simulation results to display the robot location every 0.5 second."
      ]
    },
    {
      "cell_type": "code",
      "execution_count": null,
      "metadata": {
        "id": "kx85-1THGK6Q",
        "colab": {
          "base_uri": "https://localhost:8080/",
          "height": 337
        },
        "outputId": "67978267-d635-4c94-ba74-1bfb630b2b4f"
      },
      "outputs": [
        {
          "output_type": "execute_result",
          "data": {
            "text/plain": [
              "[<matplotlib.lines.Line2D at 0x7f3362dd6cd0>]"
            ]
          },
          "metadata": {},
          "execution_count": 122
        },
        {
          "output_type": "display_data",
          "data": {
            "text/plain": [
              "<Figure size 360x360 with 1 Axes>"
            ],
            "image/png": "[encoded data removed]"
          },
          "metadata": {
            "needs_background": "light"
          }
        }
      ],
      "source": [
        "from matplotlib import markers\n",
        "t=linspace(0,t_fin,9)\n",
        "X=result['sol'](t)\n",
        "f, ax = subplots(figsize=(5,5))\n",
        "ax.plot(X[0],X[1],'r',marker=\"o\",label=r'$y=f(x)$')"
      ]
    },
    {
      "cell_type": "markdown",
      "metadata": {
        "id": "rFEzwVEGGK6Q"
      },
      "source": [
        "🧩 What should be the analytical expression of $x(t)$, $y(t)$ and $\\theta(t)$? "
      ]
    },
    {
      "cell_type": "markdown",
      "metadata": {
        "id": "iuJYCMDUGK6Q"
      },
      "source": [
        "**Answer:**"
      ]
    },
    {
      "cell_type": "markdown",
      "metadata": {
        "id": "YI1KfUX3GK6Q"
      },
      "source": [
        "🧩 Do your experimental results match the theoretical results ? Draw the curves of the simulation error at time $t$ for $x$, $y$ and $\\theta$."
      ]
    },
    {
      "cell_type": "code",
      "execution_count": null,
      "metadata": {
        "id": "fqqhlNdrGK6Q"
      },
      "outputs": [],
      "source": [
        "pass"
      ]
    },
    {
      "cell_type": "markdown",
      "metadata": {
        "id": "nBn4jjQZGK6R"
      },
      "source": [
        "🧩 If needed, adjust the simulation parameters until this error is uniformly less than $1e-5$ for each variable."
      ]
    },
    {
      "cell_type": "code",
      "execution_count": null,
      "metadata": {
        "id": "w9l7rGTyGK6R"
      },
      "outputs": [],
      "source": [
        "pass"
      ]
    }
  ],
  "metadata": {
    "kernelspec": {
      "display_name": "Python 3 (ipykernel)",
      "language": "python",
      "name": "python3"
    },
    "language_info": {
      "codemirror_mode": {
        "name": "ipython",
        "version": 3
      },
      "file_extension": ".py",
      "mimetype": "text/x-python",
      "name": "python",
      "nbconvert_exporter": "python",
      "pygments_lexer": "ipython3",
      "version": "3.9.10"
    },
    "colab": {
      "name": "Automatic Project .ipynb",
      "provenance": [],
      "collapsed_sections": []
    }
  },
  "nbformat": 4,
  "nbformat_minor": 0
}